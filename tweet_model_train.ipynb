{
  "nbformat": 4,
  "nbformat_minor": 0,
  "metadata": {
    "colab": {
      "name": "tweet_model_train.ipynb",
      "provenance": [],
      "collapsed_sections": []
    },
    "kernelspec": {
      "name": "python3",
      "display_name": "Python 3"
    },
    "accelerator": "TPU"
  },
  "cells": [
    {
      "cell_type": "code",
      "metadata": {
        "id": "XgZDGWYpp5AK"
      },
      "source": [
        "import matplotlib.pyplot as plt\n",
        "import re\n",
        "import numpy as np # linear algebra\n",
        "import random\n",
        "import pandas as pd # data processing, CSV file I/O (e.g. pd.read_csv)\n",
        "import matplotlib.pyplot as plt\n",
        "from pandas import datetime\n",
        "import math, time\n",
        "import itertools\n",
        "from sklearn import preprocessing\n",
        "from sklearn.preprocessing import MinMaxScaler\n",
        "import datetime\n",
        "from operator import itemgetter\n",
        "from sklearn.metrics import mean_squared_error\n",
        "from math import sqrt\n",
        "import torch\n",
        "import torch.nn as nn\n",
        "from torch.autograd import Variable\n",
        "\n",
        "%matplotlib notebook"
      ],
      "execution_count": 1,
      "outputs": []
    },
    {
      "cell_type": "code",
      "metadata": {
        "id": "lwa795afqWO7"
      },
      "source": [
        "SEQUENCE_LENGTH=3227\n",
        "STOCKS = ['LLY', 'BMY', 'JNJ', 'ABBV', 'MRK', 'ZTS', 'PRGO', 'ELAN', 'TEVA', 'NVO']"
      ],
      "execution_count": 2,
      "outputs": []
    },
    {
      "cell_type": "code",
      "metadata": {
        "id": "-yHh1xGXqaX2"
      },
      "source": [
        "def get_vector(x):\n",
        "    x = re.sub(r'(\\(|\\))', '', x)\n",
        "    x = x.split(',')\n",
        "    return np.array([float(x1.strip()) for x1 in x])"
      ],
      "execution_count": 3,
      "outputs": []
    },
    {
      "cell_type": "markdown",
      "metadata": {
        "id": "VYUgysRxSjT1"
      },
      "source": [
        "### Obtain Tweet Vector in Numpy array format, Remove unnecessary attributes"
      ]
    },
    {
      "cell_type": "code",
      "metadata": {
        "id": "HzZSl7ByqdAj"
      },
      "source": [
        "df_tweets_full = pd.read_csv(\"/content/tweet_stock_data.csv\", index_col=False, parse_dates=['Date'])\n",
        "df_tweets_full['Tweet_Vector'] = df_tweets_full['Tweet Vector'].apply(lambda x: get_vector(x))\n",
        "df_tweets_full.drop(columns=['Unnamed: 0', 'Tweet Vector'], inplace=True)"
      ],
      "execution_count": 4,
      "outputs": []
    },
    {
      "cell_type": "markdown",
      "metadata": {
        "id": "5poLIpaZSyCD"
      },
      "source": [
        "### Group by Stock and Sort by Date"
      ]
    },
    {
      "cell_type": "code",
      "metadata": {
        "id": "hk3tUzvHrweC"
      },
      "source": [
        "df_tweets_full = df_tweets_full.groupby('Stock').apply(lambda x: x.sort_values('Date'))"
      ],
      "execution_count": 5,
      "outputs": []
    },
    {
      "cell_type": "markdown",
      "metadata": {
        "id": "MXY1MgmwTAa3"
      },
      "source": [
        "### Find average of the tweet vector based on Date"
      ]
    },
    {
      "cell_type": "code",
      "metadata": {
        "id": "Nu8O2h15sdnv"
      },
      "source": [
        "df = pd.DataFrame()\n",
        "for stock in STOCKS:\n",
        "  df_tweets = df_tweets_full.loc[df_tweets_full['Stock']==stock, ['Date', 'Tweet_Vector']]\n",
        "  df_tweets = df_tweets.groupby('Date')['Tweet_Vector'].apply(np.mean).reset_index()\n",
        "  df_tweets['Stock'] = stock\n",
        "  df = df.append(df_tweets, ignore_index=True)"
      ],
      "execution_count": 6,
      "outputs": []
    },
    {
      "cell_type": "markdown",
      "metadata": {
        "id": "4RtsN-DNTShm"
      },
      "source": [
        "### Prepare dataset using Stock Price "
      ]
    },
    {
      "cell_type": "markdown",
      "metadata": {
        "id": "XvaGGGqfTKce"
      },
      "source": [
        "##### 1. Load the dataset\n",
        "##### 2. The output format must be tweet vector and stock prices\n",
        "##### 3. Populate the stock prices based on the date and stock name\n",
        "##### 4. Fill the missing values with zero vector"
      ]
    },
    {
      "cell_type": "code",
      "metadata": {
        "id": "3QZhOpkkTuku",
        "outputId": "c6fd2eb7-55af-4c2f-b276-3f284c489927",
        "colab": {
          "base_uri": "https://localhost:8080/",
          "height": 204
        }
      },
      "source": [
        "df_stocks = pd.read_csv(\"/content/stock_data.csv\", index_col=False)\n",
        "\n",
        "df_stocks['Date'] = pd.to_datetime(df_stocks['Date'], infer_datetime_format=True)\n",
        "\n",
        "df_stocks.drop(columns=['Unnamed: 0'], inplace=True)\n",
        "\n",
        "df_stocks.head(5)"
      ],
      "execution_count": 7,
      "outputs": [
        {
          "output_type": "execute_result",
          "data": {
            "text/html": [
              "<div>\n",
              "<style scoped>\n",
              "    .dataframe tbody tr th:only-of-type {\n",
              "        vertical-align: middle;\n",
              "    }\n",
              "\n",
              "    .dataframe tbody tr th {\n",
              "        vertical-align: top;\n",
              "    }\n",
              "\n",
              "    .dataframe thead th {\n",
              "        text-align: right;\n",
              "    }\n",
              "</style>\n",
              "<table border=\"1\" class=\"dataframe\">\n",
              "  <thead>\n",
              "    <tr style=\"text-align: right;\">\n",
              "      <th></th>\n",
              "      <th>Stock</th>\n",
              "      <th>Date</th>\n",
              "      <th>Open</th>\n",
              "      <th>Close</th>\n",
              "      <th>High</th>\n",
              "      <th>Low</th>\n",
              "      <th>Volume</th>\n",
              "    </tr>\n",
              "  </thead>\n",
              "  <tbody>\n",
              "    <tr>\n",
              "      <th>0</th>\n",
              "      <td>LLY</td>\n",
              "      <td>2018-01-02</td>\n",
              "      <td>84.459999</td>\n",
              "      <td>84.680000</td>\n",
              "      <td>85.000000</td>\n",
              "      <td>84.059998</td>\n",
              "      <td>3456700</td>\n",
              "    </tr>\n",
              "    <tr>\n",
              "      <th>1</th>\n",
              "      <td>LLY</td>\n",
              "      <td>2018-01-03</td>\n",
              "      <td>84.739998</td>\n",
              "      <td>85.139999</td>\n",
              "      <td>85.419998</td>\n",
              "      <td>84.269997</td>\n",
              "      <td>3078400</td>\n",
              "    </tr>\n",
              "    <tr>\n",
              "      <th>2</th>\n",
              "      <td>LLY</td>\n",
              "      <td>2018-01-04</td>\n",
              "      <td>85.279999</td>\n",
              "      <td>85.519997</td>\n",
              "      <td>85.800003</td>\n",
              "      <td>84.739998</td>\n",
              "      <td>2462500</td>\n",
              "    </tr>\n",
              "    <tr>\n",
              "      <th>3</th>\n",
              "      <td>LLY</td>\n",
              "      <td>2018-01-05</td>\n",
              "      <td>86.089996</td>\n",
              "      <td>86.570000</td>\n",
              "      <td>86.750000</td>\n",
              "      <td>85.930000</td>\n",
              "      <td>2946300</td>\n",
              "    </tr>\n",
              "    <tr>\n",
              "      <th>4</th>\n",
              "      <td>LLY</td>\n",
              "      <td>2018-01-08</td>\n",
              "      <td>86.690002</td>\n",
              "      <td>86.129997</td>\n",
              "      <td>86.709999</td>\n",
              "      <td>85.400002</td>\n",
              "      <td>3251400</td>\n",
              "    </tr>\n",
              "  </tbody>\n",
              "</table>\n",
              "</div>"
            ],
            "text/plain": [
              "  Stock       Date       Open      Close       High        Low   Volume\n",
              "0   LLY 2018-01-02  84.459999  84.680000  85.000000  84.059998  3456700\n",
              "1   LLY 2018-01-03  84.739998  85.139999  85.419998  84.269997  3078400\n",
              "2   LLY 2018-01-04  85.279999  85.519997  85.800003  84.739998  2462500\n",
              "3   LLY 2018-01-05  86.089996  86.570000  86.750000  85.930000  2946300\n",
              "4   LLY 2018-01-08  86.690002  86.129997  86.709999  85.400002  3251400"
            ]
          },
          "metadata": {
            "tags": []
          },
          "execution_count": 7
        }
      ]
    },
    {
      "cell_type": "code",
      "metadata": {
        "id": "U999exxKUCsB",
        "outputId": "fc9dec4d-055c-4e12-8b8f-f92249ba742a",
        "colab": {
          "base_uri": "https://localhost:8080/",
          "height": 119
        }
      },
      "source": [
        "df_stock = df_stocks.drop(['Open', 'High', 'Low', 'Volume'], axis=1)\n",
        "scaler = MinMaxScaler(feature_range=(-1, 1))\n",
        "df_stock['Close'] = scaler.fit_transform(df_stock['Close'].values.reshape(-1,1))\n",
        "print(df_stock.head(5))"
      ],
      "execution_count": 8,
      "outputs": [
        {
          "output_type": "stream",
          "text": [
            "  Stock       Date     Close\n",
            "0   LLY 2018-01-02  0.062301\n",
            "1   LLY 2018-01-03  0.068525\n",
            "2   LLY 2018-01-04  0.073666\n",
            "3   LLY 2018-01-05  0.087871\n",
            "4   LLY 2018-01-08  0.081918\n"
          ],
          "name": "stdout"
        }
      ]
    },
    {
      "cell_type": "code",
      "metadata": {
        "id": "FhuYmJtYbcDb",
        "outputId": "6403eff1-6d3d-417c-f6b6-c256363a5938",
        "colab": {
          "base_uri": "https://localhost:8080/",
          "height": 119
        }
      },
      "source": [
        "print(df.tail(5))"
      ],
      "execution_count": 9,
      "outputs": [
        {
          "output_type": "stream",
          "text": [
            "           Date                                       Tweet_Vector Stock\n",
            "1474 2019-09-23  [0.0, 0.0, 0.0, 0.0, 0.0, 0.0, 0.0, 0.0, 0.0, ...   NVO\n",
            "1475 2019-11-18  [0.0, 0.0, 0.0, 0.0, 0.0, 0.0, 0.0, 0.0, 0.0, ...   NVO\n",
            "1476 2020-01-17  [0.0, 0.0, 0.0, 0.0, 0.0, 0.0, 0.0, 0.0, 0.0, ...   NVO\n",
            "1477 2020-02-05  [0.0, 0.0, 0.0, 0.0, 0.0, 0.0, 0.0, 0.0, 0.0, ...   NVO\n",
            "1478 2020-10-05  [0.0, 0.0, 0.0, 0.0, 0.0, 0.0, 0.0, 0.0, 0.0, ...   NVO\n"
          ],
          "name": "stdout"
        }
      ]
    },
    {
      "cell_type": "code",
      "metadata": {
        "id": "GM9a2iSFZNvg",
        "outputId": "dea2c19a-3385-4053-8ddf-74143be270a7",
        "colab": {
          "base_uri": "https://localhost:8080/",
          "height": 359
        }
      },
      "source": [
        "zero_vector = np.zeros(3228, dtype = float)\n",
        "dfinal = df_stock.merge(df, on=['Date', 'Stock'], how = 'left')\n",
        "dfinal.tail(10)"
      ],
      "execution_count": 10,
      "outputs": [
        {
          "output_type": "execute_result",
          "data": {
            "text/html": [
              "<div>\n",
              "<style scoped>\n",
              "    .dataframe tbody tr th:only-of-type {\n",
              "        vertical-align: middle;\n",
              "    }\n",
              "\n",
              "    .dataframe tbody tr th {\n",
              "        vertical-align: top;\n",
              "    }\n",
              "\n",
              "    .dataframe thead th {\n",
              "        text-align: right;\n",
              "    }\n",
              "</style>\n",
              "<table border=\"1\" class=\"dataframe\">\n",
              "  <thead>\n",
              "    <tr style=\"text-align: right;\">\n",
              "      <th></th>\n",
              "      <th>Stock</th>\n",
              "      <th>Date</th>\n",
              "      <th>Close</th>\n",
              "      <th>Tweet_Vector</th>\n",
              "    </tr>\n",
              "  </thead>\n",
              "  <tbody>\n",
              "    <tr>\n",
              "      <th>5229</th>\n",
              "      <td>NVO</td>\n",
              "      <td>2020-02-13</td>\n",
              "      <td>-0.234526</td>\n",
              "      <td>NaN</td>\n",
              "    </tr>\n",
              "    <tr>\n",
              "      <th>5230</th>\n",
              "      <td>NVO</td>\n",
              "      <td>2020-02-14</td>\n",
              "      <td>-0.224921</td>\n",
              "      <td>NaN</td>\n",
              "    </tr>\n",
              "    <tr>\n",
              "      <th>5231</th>\n",
              "      <td>NVO</td>\n",
              "      <td>2020-02-18</td>\n",
              "      <td>-0.216262</td>\n",
              "      <td>NaN</td>\n",
              "    </tr>\n",
              "    <tr>\n",
              "      <th>5232</th>\n",
              "      <td>NVO</td>\n",
              "      <td>2020-02-19</td>\n",
              "      <td>-0.215586</td>\n",
              "      <td>NaN</td>\n",
              "    </tr>\n",
              "    <tr>\n",
              "      <th>5233</th>\n",
              "      <td>NVO</td>\n",
              "      <td>2020-02-20</td>\n",
              "      <td>-0.224109</td>\n",
              "      <td>NaN</td>\n",
              "    </tr>\n",
              "    <tr>\n",
              "      <th>5234</th>\n",
              "      <td>NVO</td>\n",
              "      <td>2020-02-21</td>\n",
              "      <td>-0.219509</td>\n",
              "      <td>NaN</td>\n",
              "    </tr>\n",
              "    <tr>\n",
              "      <th>5235</th>\n",
              "      <td>NVO</td>\n",
              "      <td>2020-02-24</td>\n",
              "      <td>-0.254279</td>\n",
              "      <td>NaN</td>\n",
              "    </tr>\n",
              "    <tr>\n",
              "      <th>5236</th>\n",
              "      <td>NVO</td>\n",
              "      <td>2020-02-25</td>\n",
              "      <td>-0.263208</td>\n",
              "      <td>NaN</td>\n",
              "    </tr>\n",
              "    <tr>\n",
              "      <th>5237</th>\n",
              "      <td>NVO</td>\n",
              "      <td>2020-02-26</td>\n",
              "      <td>-0.256714</td>\n",
              "      <td>NaN</td>\n",
              "    </tr>\n",
              "    <tr>\n",
              "      <th>5238</th>\n",
              "      <td>NVO</td>\n",
              "      <td>2020-02-27</td>\n",
              "      <td>-0.278496</td>\n",
              "      <td>NaN</td>\n",
              "    </tr>\n",
              "  </tbody>\n",
              "</table>\n",
              "</div>"
            ],
            "text/plain": [
              "     Stock       Date     Close Tweet_Vector\n",
              "5229   NVO 2020-02-13 -0.234526          NaN\n",
              "5230   NVO 2020-02-14 -0.224921          NaN\n",
              "5231   NVO 2020-02-18 -0.216262          NaN\n",
              "5232   NVO 2020-02-19 -0.215586          NaN\n",
              "5233   NVO 2020-02-20 -0.224109          NaN\n",
              "5234   NVO 2020-02-21 -0.219509          NaN\n",
              "5235   NVO 2020-02-24 -0.254279          NaN\n",
              "5236   NVO 2020-02-25 -0.263208          NaN\n",
              "5237   NVO 2020-02-26 -0.256714          NaN\n",
              "5238   NVO 2020-02-27 -0.278496          NaN"
            ]
          },
          "metadata": {
            "tags": []
          },
          "execution_count": 10
        }
      ]
    },
    {
      "cell_type": "code",
      "metadata": {
        "id": "sYntwwUVZ1-u",
        "outputId": "9df2bf0a-0915-48d1-ea6b-acb5ed8d0daa",
        "colab": {
          "base_uri": "https://localhost:8080/",
          "height": 204
        }
      },
      "source": [
        "for row in dfinal.loc[dfinal.Tweet_Vector.isnull(), 'Tweet_Vector'].index:\n",
        "    dfinal.at[row, 'Tweet_Vector'] = zero_vector\n",
        "dfinal.tail(5)"
      ],
      "execution_count": 11,
      "outputs": [
        {
          "output_type": "execute_result",
          "data": {
            "text/html": [
              "<div>\n",
              "<style scoped>\n",
              "    .dataframe tbody tr th:only-of-type {\n",
              "        vertical-align: middle;\n",
              "    }\n",
              "\n",
              "    .dataframe tbody tr th {\n",
              "        vertical-align: top;\n",
              "    }\n",
              "\n",
              "    .dataframe thead th {\n",
              "        text-align: right;\n",
              "    }\n",
              "</style>\n",
              "<table border=\"1\" class=\"dataframe\">\n",
              "  <thead>\n",
              "    <tr style=\"text-align: right;\">\n",
              "      <th></th>\n",
              "      <th>Stock</th>\n",
              "      <th>Date</th>\n",
              "      <th>Close</th>\n",
              "      <th>Tweet_Vector</th>\n",
              "    </tr>\n",
              "  </thead>\n",
              "  <tbody>\n",
              "    <tr>\n",
              "      <th>5234</th>\n",
              "      <td>NVO</td>\n",
              "      <td>2020-02-21</td>\n",
              "      <td>-0.219509</td>\n",
              "      <td>[0.0, 0.0, 0.0, 0.0, 0.0, 0.0, 0.0, 0.0, 0.0, ...</td>\n",
              "    </tr>\n",
              "    <tr>\n",
              "      <th>5235</th>\n",
              "      <td>NVO</td>\n",
              "      <td>2020-02-24</td>\n",
              "      <td>-0.254279</td>\n",
              "      <td>[0.0, 0.0, 0.0, 0.0, 0.0, 0.0, 0.0, 0.0, 0.0, ...</td>\n",
              "    </tr>\n",
              "    <tr>\n",
              "      <th>5236</th>\n",
              "      <td>NVO</td>\n",
              "      <td>2020-02-25</td>\n",
              "      <td>-0.263208</td>\n",
              "      <td>[0.0, 0.0, 0.0, 0.0, 0.0, 0.0, 0.0, 0.0, 0.0, ...</td>\n",
              "    </tr>\n",
              "    <tr>\n",
              "      <th>5237</th>\n",
              "      <td>NVO</td>\n",
              "      <td>2020-02-26</td>\n",
              "      <td>-0.256714</td>\n",
              "      <td>[0.0, 0.0, 0.0, 0.0, 0.0, 0.0, 0.0, 0.0, 0.0, ...</td>\n",
              "    </tr>\n",
              "    <tr>\n",
              "      <th>5238</th>\n",
              "      <td>NVO</td>\n",
              "      <td>2020-02-27</td>\n",
              "      <td>-0.278496</td>\n",
              "      <td>[0.0, 0.0, 0.0, 0.0, 0.0, 0.0, 0.0, 0.0, 0.0, ...</td>\n",
              "    </tr>\n",
              "  </tbody>\n",
              "</table>\n",
              "</div>"
            ],
            "text/plain": [
              "     Stock  ...                                       Tweet_Vector\n",
              "5234   NVO  ...  [0.0, 0.0, 0.0, 0.0, 0.0, 0.0, 0.0, 0.0, 0.0, ...\n",
              "5235   NVO  ...  [0.0, 0.0, 0.0, 0.0, 0.0, 0.0, 0.0, 0.0, 0.0, ...\n",
              "5236   NVO  ...  [0.0, 0.0, 0.0, 0.0, 0.0, 0.0, 0.0, 0.0, 0.0, ...\n",
              "5237   NVO  ...  [0.0, 0.0, 0.0, 0.0, 0.0, 0.0, 0.0, 0.0, 0.0, ...\n",
              "5238   NVO  ...  [0.0, 0.0, 0.0, 0.0, 0.0, 0.0, 0.0, 0.0, 0.0, ...\n",
              "\n",
              "[5 rows x 4 columns]"
            ]
          },
          "metadata": {
            "tags": []
          },
          "execution_count": 11
        }
      ]
    },
    {
      "cell_type": "code",
      "metadata": {
        "id": "jo0o74LsIf0I",
        "outputId": "e48096b2-0a3b-432d-d21e-16881a571028",
        "colab": {
          "base_uri": "https://localhost:8080/",
          "height": 235
        }
      },
      "source": [
        "df = dfinal.loc[dfinal['Stock']=='LLY', ['Date', 'Close', 'Tweet_Vector']]\n",
        "scaler = MinMaxScaler(feature_range=(-1, 1))\n",
        "df['Close'] = scaler.fit_transform(df['Close'].values.reshape(-1,1))\n",
        "df = df.set_index('Date')\n",
        "df.head()"
      ],
      "execution_count": 12,
      "outputs": [
        {
          "output_type": "execute_result",
          "data": {
            "text/html": [
              "<div>\n",
              "<style scoped>\n",
              "    .dataframe tbody tr th:only-of-type {\n",
              "        vertical-align: middle;\n",
              "    }\n",
              "\n",
              "    .dataframe tbody tr th {\n",
              "        vertical-align: top;\n",
              "    }\n",
              "\n",
              "    .dataframe thead th {\n",
              "        text-align: right;\n",
              "    }\n",
              "</style>\n",
              "<table border=\"1\" class=\"dataframe\">\n",
              "  <thead>\n",
              "    <tr style=\"text-align: right;\">\n",
              "      <th></th>\n",
              "      <th>Close</th>\n",
              "      <th>Tweet_Vector</th>\n",
              "    </tr>\n",
              "    <tr>\n",
              "      <th>Date</th>\n",
              "      <th></th>\n",
              "      <th></th>\n",
              "    </tr>\n",
              "  </thead>\n",
              "  <tbody>\n",
              "    <tr>\n",
              "      <th>2018-01-02</th>\n",
              "      <td>-0.713700</td>\n",
              "      <td>[0.0, 0.0, 0.0, 0.0, 0.0, 0.0, 0.0, 0.0, 0.0, ...</td>\n",
              "    </tr>\n",
              "    <tr>\n",
              "      <th>2018-01-03</th>\n",
              "      <td>-0.701121</td>\n",
              "      <td>[0.0, 0.0, 0.0, 0.0, 0.0, 0.0, 0.0, 0.0, 0.0, ...</td>\n",
              "    </tr>\n",
              "    <tr>\n",
              "      <th>2018-01-04</th>\n",
              "      <td>-0.690730</td>\n",
              "      <td>[0.0, 0.0, 0.0, 0.0, 0.0, 0.0, 0.0, 0.0, 0.0, ...</td>\n",
              "    </tr>\n",
              "    <tr>\n",
              "      <th>2018-01-05</th>\n",
              "      <td>-0.662018</td>\n",
              "      <td>[0.0, 0.0, 0.0, 0.0, 0.0, 0.0, 0.0, 0.0, 0.0, ...</td>\n",
              "    </tr>\n",
              "    <tr>\n",
              "      <th>2018-01-08</th>\n",
              "      <td>-0.674050</td>\n",
              "      <td>[0.0, 0.0, 0.0, 0.0, 0.0, 0.0, 0.0, 0.0, 0.0, ...</td>\n",
              "    </tr>\n",
              "  </tbody>\n",
              "</table>\n",
              "</div>"
            ],
            "text/plain": [
              "               Close                                       Tweet_Vector\n",
              "Date                                                                   \n",
              "2018-01-02 -0.713700  [0.0, 0.0, 0.0, 0.0, 0.0, 0.0, 0.0, 0.0, 0.0, ...\n",
              "2018-01-03 -0.701121  [0.0, 0.0, 0.0, 0.0, 0.0, 0.0, 0.0, 0.0, 0.0, ...\n",
              "2018-01-04 -0.690730  [0.0, 0.0, 0.0, 0.0, 0.0, 0.0, 0.0, 0.0, 0.0, ...\n",
              "2018-01-05 -0.662018  [0.0, 0.0, 0.0, 0.0, 0.0, 0.0, 0.0, 0.0, 0.0, ...\n",
              "2018-01-08 -0.674050  [0.0, 0.0, 0.0, 0.0, 0.0, 0.0, 0.0, 0.0, 0.0, ..."
            ]
          },
          "metadata": {
            "tags": []
          },
          "execution_count": 12
        }
      ]
    },
    {
      "cell_type": "code",
      "metadata": {
        "id": "F7SFZBvkJKxa"
      },
      "source": [
        "def load_data(dfinal, stock):\n",
        "    df = dfinal.loc[dfinal['Stock']==stock, ['Date', 'Close', 'Tweet_Vector']]\n",
        "    scaler = MinMaxScaler(feature_range=(-1, 1))\n",
        "    df['Close'] = scaler.fit_transform(df['Close'].values.reshape(-1,1))\n",
        "    df = df.set_index('Date')\n",
        "    \n",
        "    df_close = df.drop(['Tweet_Vector'], axis=1)\n",
        "    label = df_close.to_numpy()\n",
        "\n",
        "    df_vector = df.drop(['Close'], axis=1)\n",
        "    df_vector['Tweet_Vector'] = df_vector['Tweet_Vector'].to_list()\n",
        "    vector = []\n",
        "    for tweet in df_vector['Tweet_Vector']:\n",
        "      row = []\n",
        "      for word in tweet:\n",
        "        row.append([word])\n",
        "      vector.append(row)\n",
        "    data = np.array(vector)\n",
        "\n",
        "    test_set_size = int(np.round(0.2*data.shape[0]))\n",
        "    train_set_size = data.shape[0] - (test_set_size)\n",
        "    \n",
        "    x_train = data[:train_set_size,:-1,:]\n",
        "    y_train = label[:train_set_size,:]\n",
        "    \n",
        "    x_test = data[train_set_size:,:-1]\n",
        "    y_test = label[train_set_size:,:]\n",
        "    \n",
        "    return x_train, y_train, x_test, y_test\n"
      ],
      "execution_count": 15,
      "outputs": []
    },
    {
      "cell_type": "code",
      "metadata": {
        "id": "qny4uvBBQxGP",
        "outputId": "9ba8cb2c-3fe6-456e-cd63-74f420eae4d5",
        "colab": {
          "base_uri": "https://localhost:8080/",
          "height": 85
        }
      },
      "source": [
        "x_data = False\n",
        "\n",
        "for stock in STOCKS:\n",
        "    x_train_, y_train_, x_test_, y_test_ = load_data(dfinal, stock)\n",
        "    if not x_data:\n",
        "        x_data = True\n",
        "        x_train = x_train_\n",
        "        y_train = y_train_\n",
        "        x_test = x_test_\n",
        "        y_test = y_test_\n",
        "    else:\n",
        "        x_train = np.concatenate((x_train, x_train_))\n",
        "        y_train = np.concatenate((y_train, y_train_))\n",
        "        x_test = np.concatenate((x_test, x_test_))\n",
        "        y_test = np.concatenate((y_test, y_test_))\n",
        "print('x_train.shape = ',x_train.shape)\n",
        "print('y_train.shape = ',y_train.shape)\n",
        "print('x_test.shape = ',x_test.shape)\n",
        "print('y_test.shape = ',y_test.shape)"
      ],
      "execution_count": 16,
      "outputs": [
        {
          "output_type": "stream",
          "text": [
            "x_train.shape =  (4195, 3227, 1)\n",
            "y_train.shape =  (4195, 1)\n",
            "x_test.shape =  (1044, 3227, 1)\n",
            "y_test.shape =  (1044, 1)\n"
          ],
          "name": "stdout"
        }
      ]
    },
    {
      "cell_type": "code",
      "metadata": {
        "id": "6MlOtkAORAW0"
      },
      "source": [
        "# make training and test sets in torch\n",
        "x_train = torch.from_numpy(x_train).type(torch.Tensor)\n",
        "x_test = torch.from_numpy(x_test).type(torch.Tensor)\n",
        "y_train = torch.from_numpy(y_train).type(torch.Tensor)\n",
        "y_test = torch.from_numpy(y_test).type(torch.Tensor)"
      ],
      "execution_count": 17,
      "outputs": []
    },
    {
      "cell_type": "code",
      "metadata": {
        "id": "eo9tIDhenCiE",
        "outputId": "2be272e1-0b12-43fe-808d-219c97c3b0f2",
        "colab": {
          "base_uri": "https://localhost:8080/",
          "height": 326
        }
      },
      "source": [
        "# Build model\n",
        "\n",
        "input_dim = 1\n",
        "hidden_dim = 32\n",
        "num_layers = 2\n",
        "output_dim = 1\n",
        "look_back=SEQUENCE_LENGTH\n",
        "\n",
        "# Here we define our model as a class\n",
        "class StockRebels(nn.Module):\n",
        "    def __init__(self, input_dim, hidden_dim, num_layers, output_dim):\n",
        "        super(StockRebels, self).__init__()\n",
        "        self.hidden_dim = hidden_dim\n",
        "        self.num_layers = num_layers\n",
        "        # lstm layer1\n",
        "        self.lstm1 = nn.LSTM(input_dim, hidden_dim, num_layers, batch_first=True)\n",
        "        # Fully connected layer\n",
        "        self.fc = nn.Linear(hidden_dim, output_dim)\n",
        "        \n",
        "    def forward(self, x):\n",
        "        # Initialize\n",
        "        h0 = torch.zeros(self.num_layers, x.size(0), self.hidden_dim).requires_grad_()\n",
        "        c0 = torch.zeros(self.num_layers, x.size(0), self.hidden_dim).requires_grad_()\n",
        "\n",
        "        # One time step\n",
        "        out, (hn, cn) = self.lstm1(x, (h0.detach(), c0.detach()))\n",
        "        \n",
        "        out = self.fc(out[:, -1, :]) \n",
        "        return out\n",
        "    \n",
        "model = StockRebels(input_dim=input_dim, hidden_dim=hidden_dim, output_dim=output_dim, num_layers=num_layers)\n",
        "\n",
        "loss_fn = torch.nn.MSELoss(size_average=True)\n",
        "\n",
        "optimiser = torch.optim.Adam(model.parameters(), lr=0.01)\n",
        "print(model)\n",
        "print(len(list(model.parameters())))\n",
        "for i in range(len(list(model.parameters()))):\n",
        "    print(list(model.parameters())[i].size())"
      ],
      "execution_count": 18,
      "outputs": [
        {
          "output_type": "stream",
          "text": [
            "StockRebels(\n",
            "  (lstm1): LSTM(1, 32, num_layers=2, batch_first=True)\n",
            "  (fc): Linear(in_features=32, out_features=1, bias=True)\n",
            ")\n",
            "10\n",
            "torch.Size([128, 1])\n",
            "torch.Size([128, 32])\n",
            "torch.Size([128])\n",
            "torch.Size([128])\n",
            "torch.Size([128, 32])\n",
            "torch.Size([128, 32])\n",
            "torch.Size([128])\n",
            "torch.Size([128])\n",
            "torch.Size([1, 32])\n",
            "torch.Size([1])\n"
          ],
          "name": "stdout"
        },
        {
          "output_type": "stream",
          "text": [
            "/usr/local/lib/python3.6/dist-packages/torch/nn/_reduction.py:44: UserWarning: size_average and reduce args will be deprecated, please use reduction='mean' instead.\n",
            "  warnings.warn(warning.format(ret))\n"
          ],
          "name": "stderr"
        }
      ]
    },
    {
      "cell_type": "code",
      "metadata": {
        "id": "bPSEg_BCnVPS"
      },
      "source": [
        "batch_size = 128\n",
        "\n",
        "train = torch.utils.data.TensorDataset(x_train,y_train)\n",
        "test = torch.utils.data.TensorDataset(x_test,y_test)\n",
        "\n",
        "train_loader = torch.utils.data.DataLoader(dataset=train, \n",
        "                                           batch_size=batch_size, \n",
        "                                           shuffle=False)\n",
        "\n",
        "test_loader = torch.utils.data.DataLoader(dataset=test, \n",
        "                                          batch_size=batch_size, \n",
        "                                          shuffle=False)"
      ],
      "execution_count": 19,
      "outputs": []
    },
    {
      "cell_type": "code",
      "metadata": {
        "id": "CJU9B2ASnZOa"
      },
      "source": [
        "# Train model\n",
        "\n",
        "num_epochs = 10\n",
        "hist = np.zeros((num_epochs, 2))\n",
        "\n",
        "for t in range(num_epochs):\n",
        "    for x_train_, y_train_ in train_loader:\n",
        "        optimiser.zero_grad()\n",
        "        # Forward pass\n",
        "        y_train_pred_ = model(x_train_)\n",
        "        loss = loss_fn(y_train_pred_, y_train_)\n",
        "        # Backward pass\n",
        "        loss.backward()\n",
        "        # Update parameters\n",
        "        optimiser.step()    \n",
        "    # Loss calculation\n",
        "    y_train_pred = model(x_train)\n",
        "    loss_train = loss_fn(y_train_pred, y_train)\n",
        "    y_test_pred = model(x_test)\n",
        "    loss_test = loss_fn(y_test_pred, y_test)\n",
        "    print(f\"Epoch {t}, Train MSE: {loss.item()}, Test MSE: {loss_test.item()}\")\n",
        "    hist[t][0] = loss.item()\n",
        "    hist[t][1] = loss_test.item()"
      ],
      "execution_count": null,
      "outputs": []
    },
    {
      "cell_type": "code",
      "metadata": {
        "id": "7JrdJ6sAneC0"
      },
      "source": [
        ""
      ],
      "execution_count": null,
      "outputs": []
    },
    {
      "cell_type": "code",
      "metadata": {
        "id": "dSqiEiCfn5us"
      },
      "source": [
        "# make predictions  \n",
        "y_test_pred = model(x_test)\n",
        "testScore = math.sqrt(mean_squared_error(y_test[:,0], y_test_pred.detach().numpy()[:,0]))\n",
        "print('Test Score: %.4f RMSE' % (testScore))"
      ],
      "execution_count": null,
      "outputs": []
    }
  ]
}